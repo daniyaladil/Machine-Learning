{
 "cells": [
  {
   "cell_type": "code",
   "execution_count": 175,
   "id": "435aceb8-f99f-4bda-b067-827a7ab7b678",
   "metadata": {},
   "outputs": [],
   "source": [
    "import numpy as np\n",
    "import pandas as pd\n",
    "\n",
    "import matplotlib.pyplot as plt\n",
    "\n",
    "from sklearn.model_selection import train_test_split\n",
    "\n",
    "from sklearn.tree import DecisionTreeClassifier\n",
    "\n",
    "from sklearn.metrics import accuracy_score\n",
    "from sklearn.model_selection import cross_val_score\n",
    "\n",
    "from sklearn.preprocessing import KBinsDiscretizer #For Binning\n",
    "from sklearn.compose import ColumnTransformer"
   ]
  },
  {
   "cell_type": "code",
   "execution_count": 176,
   "id": "e9fa734f-73a1-4b76-b126-26dc30f7ffaa",
   "metadata": {},
   "outputs": [
    {
     "data": {
      "text/html": [
       "<div>\n",
       "<style scoped>\n",
       "    .dataframe tbody tr th:only-of-type {\n",
       "        vertical-align: middle;\n",
       "    }\n",
       "\n",
       "    .dataframe tbody tr th {\n",
       "        vertical-align: top;\n",
       "    }\n",
       "\n",
       "    .dataframe thead th {\n",
       "        text-align: right;\n",
       "    }\n",
       "</style>\n",
       "<table border=\"1\" class=\"dataframe\">\n",
       "  <thead>\n",
       "    <tr style=\"text-align: right;\">\n",
       "      <th></th>\n",
       "      <th>Survived</th>\n",
       "      <th>Age</th>\n",
       "      <th>Fare</th>\n",
       "    </tr>\n",
       "  </thead>\n",
       "  <tbody>\n",
       "    <tr>\n",
       "      <th>745</th>\n",
       "      <td>0</td>\n",
       "      <td>70.0</td>\n",
       "      <td>71.000</td>\n",
       "    </tr>\n",
       "    <tr>\n",
       "      <th>816</th>\n",
       "      <td>0</td>\n",
       "      <td>23.0</td>\n",
       "      <td>7.925</td>\n",
       "    </tr>\n",
       "    <tr>\n",
       "      <th>56</th>\n",
       "      <td>1</td>\n",
       "      <td>21.0</td>\n",
       "      <td>10.500</td>\n",
       "    </tr>\n",
       "  </tbody>\n",
       "</table>\n",
       "</div>"
      ],
      "text/plain": [
       "     Survived   Age    Fare\n",
       "745         0  70.0  71.000\n",
       "816         0  23.0   7.925\n",
       "56          1  21.0  10.500"
      ]
     },
     "execution_count": 176,
     "metadata": {},
     "output_type": "execute_result"
    }
   ],
   "source": [
    "df=pd.read_csv(\"train.csv\",usecols=[\"Age\",\"Fare\",\"Survived\"])\n",
    "df.dropna(inplace=True)\n",
    "df.sample(3)"
   ]
  },
  {
   "cell_type": "markdown",
   "id": "9ec30283-6c58-4e67-929a-f8a3a385fed9",
   "metadata": {},
   "source": [
    "# Train Test Split"
   ]
  },
  {
   "cell_type": "code",
   "execution_count": 177,
   "id": "ebaadabc-887c-4d2e-9902-8e3966902914",
   "metadata": {},
   "outputs": [],
   "source": [
    "X=df.iloc[:,1:]\n",
    "Y=df.iloc[:,0]\n",
    "X_train, X_test, y_train, y_test= train_test_split(X,Y, test_size=0.2,random_state=42)"
   ]
  },
  {
   "cell_type": "markdown",
   "id": "526edf23-2d31-4f65-bc69-ed5249a2e358",
   "metadata": {},
   "source": [
    "# Training without Binning"
   ]
  },
  {
   "cell_type": "code",
   "execution_count": 178,
   "id": "8e0066ea-ef93-4c6f-9451-fbf2a6d9cede",
   "metadata": {},
   "outputs": [
    {
     "data": {
      "text/plain": [
       "0.6223776223776224"
      ]
     },
     "execution_count": 178,
     "metadata": {},
     "output_type": "execute_result"
    }
   ],
   "source": [
    "clf=DecisionTreeClassifier()\n",
    "\n",
    "clf.fit(X_train, y_train)\n",
    "\n",
    "y_pred=clf.predict(X_test)\n",
    "\n",
    "accuracy_score(y_test, y_pred)"
   ]
  },
  {
   "cell_type": "code",
   "execution_count": 179,
   "id": "47d7b813-bae7-44a7-9996-60e1f7fd1fb5",
   "metadata": {},
   "outputs": [
    {
     "data": {
      "text/plain": [
       "np.float64(0.6325)"
      ]
     },
     "execution_count": 179,
     "metadata": {},
     "output_type": "execute_result"
    }
   ],
   "source": [
    "#Cross Value Score\n",
    "np.mean(cross_val_score(clf,X,Y,cv=200,scoring=\"accuracy\"))"
   ]
  },
  {
   "cell_type": "markdown",
   "id": "722d5333-8f89-4af0-a744-875ff84dcc49",
   "metadata": {},
   "source": [
    "# Applying Binning"
   ]
  },
  {
   "cell_type": "code",
   "execution_count": 180,
   "id": "9b175c76-585f-4c1a-8572-59a1066a4bc3",
   "metadata": {},
   "outputs": [],
   "source": [
    "# Applying Binning on our train columns\n",
    "# Strategy (uniform, quantile, kmeans)\n",
    "trf=ColumnTransformer(\n",
    "    [\n",
    "        ('first',KBinsDiscretizer(n_bins=10,encode=\"ordinal\",strategy=\"quantile\"),[0]),\n",
    "        ('second',KBinsDiscretizer(n_bins=10,encode=\"ordinal\",strategy=\"quantile\"),[1])\n",
    "    ]\n",
    ")"
   ]
  },
  {
   "cell_type": "code",
   "execution_count": 181,
   "id": "8693aee7-1412-4e05-a999-33430339b7c6",
   "metadata": {},
   "outputs": [],
   "source": [
    "X_train_transformed=trf.fit_transform(X_train)\n",
    "X_test_transformed=trf.transform(X_test)"
   ]
  },
  {
   "cell_type": "markdown",
   "id": "fe7a9899-27d0-46e9-bed3-aa0f2b401f69",
   "metadata": {},
   "source": [
    "# Training After Binning"
   ]
  },
  {
   "cell_type": "code",
   "execution_count": 182,
   "id": "f2f0167a-6c09-4d30-936e-387e622fcfc0",
   "metadata": {},
   "outputs": [
    {
     "data": {
      "text/plain": [
       "0.6223776223776224"
      ]
     },
     "execution_count": 182,
     "metadata": {},
     "output_type": "execute_result"
    }
   ],
   "source": [
    "clf=DecisionTreeClassifier()\n",
    "clf.fit(X_train_transformed,y_train)\n",
    "\n",
    "y_pred1=clf.predict(X_test_transformed)\n",
    "\n",
    "accuracy_score(y_test, y_pred1)"
   ]
  },
  {
   "cell_type": "code",
   "execution_count": 183,
   "id": "b51efffc-ee70-4846-b76b-7c765b40aa7b",
   "metadata": {},
   "outputs": [
    {
     "data": {
      "text/plain": [
       "np.float64(0.6929166666666666)"
      ]
     },
     "execution_count": 183,
     "metadata": {},
     "output_type": "execute_result"
    }
   ],
   "source": [
    "X_trans=trf.fit_transform(X)\n",
    "np.mean(cross_val_score(clf,X_trans,Y,cv=200,scoring=\"accuracy\"))"
   ]
  },
  {
   "cell_type": "code",
   "execution_count": null,
   "id": "8317adca-ae85-4f16-9cc0-b94e1731818b",
   "metadata": {},
   "outputs": [],
   "source": []
  }
 ],
 "metadata": {
  "kernelspec": {
   "display_name": "Python 3 (ipykernel)",
   "language": "python",
   "name": "python3"
  },
  "language_info": {
   "codemirror_mode": {
    "name": "ipython",
    "version": 3
   },
   "file_extension": ".py",
   "mimetype": "text/x-python",
   "name": "python",
   "nbconvert_exporter": "python",
   "pygments_lexer": "ipython3",
   "version": "3.13.5"
  }
 },
 "nbformat": 4,
 "nbformat_minor": 5
}
