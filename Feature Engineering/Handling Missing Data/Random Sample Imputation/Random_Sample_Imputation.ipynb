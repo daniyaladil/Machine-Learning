{
 "cells": [
  {
   "cell_type": "code",
   "execution_count": 7,
   "id": "99743fdf-b57f-4b07-b444-c58bf1cf2c61",
   "metadata": {},
   "outputs": [],
   "source": [
    "import numpy as np\n",
    "import pandas as pd\n",
    "\n",
    "import matplotlib.pyplot as plt\n",
    "import seaborn as sns\n",
    "\n",
    "from sklearn.model_selection import train_test_split"
   ]
  },
  {
   "cell_type": "markdown",
   "id": "457f7c08-f37a-424e-ab04-a6a6b008aafa",
   "metadata": {},
   "source": [
    "# For Numerical Data"
   ]
  },
  {
   "cell_type": "code",
   "execution_count": 27,
   "id": "56e93169-17b2-4ae4-bd6b-5cb7bb0dee4a",
   "metadata": {},
   "outputs": [
    {
     "data": {
      "text/html": [
       "<div>\n",
       "<style scoped>\n",
       "    .dataframe tbody tr th:only-of-type {\n",
       "        vertical-align: middle;\n",
       "    }\n",
       "\n",
       "    .dataframe tbody tr th {\n",
       "        vertical-align: top;\n",
       "    }\n",
       "\n",
       "    .dataframe thead th {\n",
       "        text-align: right;\n",
       "    }\n",
       "</style>\n",
       "<table border=\"1\" class=\"dataframe\">\n",
       "  <thead>\n",
       "    <tr style=\"text-align: right;\">\n",
       "      <th></th>\n",
       "      <th>Survived</th>\n",
       "      <th>Age</th>\n",
       "      <th>Fare</th>\n",
       "    </tr>\n",
       "  </thead>\n",
       "  <tbody>\n",
       "    <tr>\n",
       "      <th>488</th>\n",
       "      <td>0</td>\n",
       "      <td>30.0</td>\n",
       "      <td>8.0500</td>\n",
       "    </tr>\n",
       "    <tr>\n",
       "      <th>289</th>\n",
       "      <td>1</td>\n",
       "      <td>22.0</td>\n",
       "      <td>7.7500</td>\n",
       "    </tr>\n",
       "    <tr>\n",
       "      <th>632</th>\n",
       "      <td>1</td>\n",
       "      <td>32.0</td>\n",
       "      <td>30.5000</td>\n",
       "    </tr>\n",
       "    <tr>\n",
       "      <th>147</th>\n",
       "      <td>0</td>\n",
       "      <td>9.0</td>\n",
       "      <td>34.3750</td>\n",
       "    </tr>\n",
       "    <tr>\n",
       "      <th>843</th>\n",
       "      <td>0</td>\n",
       "      <td>34.5</td>\n",
       "      <td>6.4375</td>\n",
       "    </tr>\n",
       "  </tbody>\n",
       "</table>\n",
       "</div>"
      ],
      "text/plain": [
       "     Survived   Age     Fare\n",
       "488         0  30.0   8.0500\n",
       "289         1  22.0   7.7500\n",
       "632         1  32.0  30.5000\n",
       "147         0   9.0  34.3750\n",
       "843         0  34.5   6.4375"
      ]
     },
     "execution_count": 27,
     "metadata": {},
     "output_type": "execute_result"
    }
   ],
   "source": [
    "df= pd.read_csv(\"train.csv\",usecols=['Survived','Age','Fare'])\n",
    "df.sample(5)"
   ]
  },
  {
   "cell_type": "code",
   "execution_count": 28,
   "id": "d6d53155-2868-42b6-a9af-5a236058d098",
   "metadata": {},
   "outputs": [
    {
     "data": {
      "text/plain": [
       "Survived     0.00000\n",
       "Age         19.86532\n",
       "Fare         0.00000\n",
       "dtype: float64"
      ]
     },
     "execution_count": 28,
     "metadata": {},
     "output_type": "execute_result"
    }
   ],
   "source": [
    "df.isnull().mean()*100"
   ]
  },
  {
   "cell_type": "code",
   "execution_count": 29,
   "id": "dc711806-233e-43c0-bcb1-ff7724ce5eb2",
   "metadata": {},
   "outputs": [],
   "source": [
    "X= df.drop(columns=[\"Survived\"])\n",
    "Y= df[[\"Survived\"]]"
   ]
  },
  {
   "cell_type": "code",
   "execution_count": 59,
   "id": "673ab8db-fa36-444d-87de-bc7da2311171",
   "metadata": {},
   "outputs": [],
   "source": [
    "X_train, X_test, Y_train, Y_test = train_test_split(X,Y, test_size=0.2)"
   ]
  },
  {
   "cell_type": "code",
   "execution_count": 60,
   "id": "b8ba599c-4483-45b9-ae5d-b7502293690d",
   "metadata": {},
   "outputs": [
    {
     "data": {
      "text/plain": [
       "((712, 3), (179, 3))"
      ]
     },
     "execution_count": 60,
     "metadata": {},
     "output_type": "execute_result"
    }
   ],
   "source": [
    "X_train[\"Age_Imputed\"]=X_train[\"Age\"]\n",
    "X_test[\"Age_Imputed\"]=X_test[\"Age\"]\n",
    "X_train.shape, X_test.shape"
   ]
  },
  {
   "cell_type": "markdown",
   "id": "f72f7017-23f0-41bf-ba9b-b99a3bbcccc5",
   "metadata": {},
   "source": [
    "# Filling Missing Values"
   ]
  },
  {
   "cell_type": "code",
   "execution_count": 61,
   "id": "cb1c47f9-111a-4054-ae40-997a76ff5401",
   "metadata": {},
   "outputs": [],
   "source": [
    "# For training data\n",
    "X_train.loc[X_train['Age_Imputed'].isnull(), 'Age_Imputed'] = (\n",
    "    X_train['Age'].dropna().sample(X_train['Age'].isnull().sum()).values\n",
    ")\n",
    "\n",
    "# For test data\n",
    "X_test.loc[X_test['Age_Imputed'].isnull(), 'Age_Imputed'] = (\n",
    "    X_train['Age'].dropna().sample(X_test['Age'].isnull().sum()).values\n",
    ")"
   ]
  },
  {
   "cell_type": "markdown",
   "id": "47bf20d5-33a3-4247-af0f-814568ebfaf7",
   "metadata": {},
   "source": [
    "# Checking Distribution"
   ]
  },
  {
   "cell_type": "code",
   "execution_count": 66,
   "id": "df64c42d-8ba0-4ab3-b837-5cb66c0e91a8",
   "metadata": {},
   "outputs": [
    {
     "data": {
      "text/plain": [
       "<matplotlib.legend.Legend at 0x17591314c20>"
      ]
     },
     "execution_count": 66,
     "metadata": {},
     "output_type": "execute_result"
    },
    {
     "data": {
      "image/png": "[encoded data removed]",
      "text/plain": [
       "<Figure size 640x480 with 1 Axes>"
      ]
     },
     "metadata": {},
     "output_type": "display_data"
    }
   ],
   "source": [
    "sns.kdeplot(x=X_train[\"Age\"],label=\"Age\")\n",
    "sns.kdeplot(x=X_train[\"Age_Imputed\"],label=\"Imputed Age\")\n",
    "\n",
    "plt.legend()"
   ]
  },
  {
   "cell_type": "code",
   "execution_count": 72,
   "id": "c5f84885-57bf-4efc-8c14-f6e16d4aee2e",
   "metadata": {},
   "outputs": [
    {
     "data": {
      "text/plain": [
       "<Axes: ylabel='Age'>"
      ]
     },
     "execution_count": 72,
     "metadata": {},
     "output_type": "execute_result"
    },
    {
     "data": {
      "image/png": "[encoded data removed]",
      "text/plain": [
       "<Figure size 640x480 with 2 Axes>"
      ]
     },
     "metadata": {},
     "output_type": "display_data"
    }
   ],
   "source": [
    "plt.subplot(121)\n",
    "sns.boxplot(X_train[\"Age_Imputed\"])\n",
    "plt.subplot(122)\n",
    "sns.boxplot(X_train[\"Age\"])"
   ]
  },
  {
   "cell_type": "code",
   "execution_count": 97,
   "id": "c5ff5988-1ed8-48fc-bffe-ffac653c3793",
   "metadata": {},
   "outputs": [],
   "source": [
    "# sampled_value= X_train[\"Age\"].dropna().sample(1,random_state=int(observation[\"Fare\"]))"
   ]
  },
  {
   "cell_type": "markdown",
   "id": "81c825c6-022a-4910-8ba7-770b14974bd7",
   "metadata": {},
   "source": [
    "# For Categorical Data"
   ]
  },
  {
   "cell_type": "code",
   "execution_count": 98,
   "id": "69304f0f-6ac4-4b46-929f-b53e8963b484",
   "metadata": {},
   "outputs": [
    {
     "data": {
      "text/html": [
       "<div>\n",
       "<style scoped>\n",
       "    .dataframe tbody tr th:only-of-type {\n",
       "        vertical-align: middle;\n",
       "    }\n",
       "\n",
       "    .dataframe tbody tr th {\n",
       "        vertical-align: top;\n",
       "    }\n",
       "\n",
       "    .dataframe thead th {\n",
       "        text-align: right;\n",
       "    }\n",
       "</style>\n",
       "<table border=\"1\" class=\"dataframe\">\n",
       "  <thead>\n",
       "    <tr style=\"text-align: right;\">\n",
       "      <th></th>\n",
       "      <th>FireplaceQu</th>\n",
       "      <th>GarageQual</th>\n",
       "      <th>SalePrice</th>\n",
       "    </tr>\n",
       "  </thead>\n",
       "  <tbody>\n",
       "    <tr>\n",
       "      <th>253</th>\n",
       "      <td>NaN</td>\n",
       "      <td>TA</td>\n",
       "      <td>158000</td>\n",
       "    </tr>\n",
       "    <tr>\n",
       "      <th>471</th>\n",
       "      <td>Gd</td>\n",
       "      <td>TA</td>\n",
       "      <td>190000</td>\n",
       "    </tr>\n",
       "    <tr>\n",
       "      <th>187</th>\n",
       "      <td>NaN</td>\n",
       "      <td>Fa</td>\n",
       "      <td>135000</td>\n",
       "    </tr>\n",
       "    <tr>\n",
       "      <th>1006</th>\n",
       "      <td>TA</td>\n",
       "      <td>TA</td>\n",
       "      <td>163500</td>\n",
       "    </tr>\n",
       "    <tr>\n",
       "      <th>929</th>\n",
       "      <td>TA</td>\n",
       "      <td>TA</td>\n",
       "      <td>222000</td>\n",
       "    </tr>\n",
       "  </tbody>\n",
       "</table>\n",
       "</div>"
      ],
      "text/plain": [
       "     FireplaceQu GarageQual  SalePrice\n",
       "253          NaN         TA     158000\n",
       "471           Gd         TA     190000\n",
       "187          NaN         Fa     135000\n",
       "1006          TA         TA     163500\n",
       "929           TA         TA     222000"
      ]
     },
     "execution_count": 98,
     "metadata": {},
     "output_type": "execute_result"
    }
   ],
   "source": [
    "data= pd.read_csv(\"house-train.csv\",usecols=[\"GarageQual\",\"FireplaceQu\",\"SalePrice\"])\n",
    "data.sample(5)"
   ]
  },
  {
   "cell_type": "code",
   "execution_count": 99,
   "id": "27fad526-ab18-4506-b722-c7c368f09513",
   "metadata": {},
   "outputs": [
    {
     "data": {
      "text/plain": [
       "FireplaceQu    47.260274\n",
       "GarageQual      5.547945\n",
       "SalePrice       0.000000\n",
       "dtype: float64"
      ]
     },
     "execution_count": 99,
     "metadata": {},
     "output_type": "execute_result"
    }
   ],
   "source": [
    "data.isnull().mean()*100"
   ]
  },
  {
   "cell_type": "code",
   "execution_count": 100,
   "id": "ed8c8d20-2341-44ea-9897-1e1a156277d5",
   "metadata": {},
   "outputs": [],
   "source": [
    "X=data\n",
    "Y= data[\"SalePrice\"]\n"
   ]
  },
  {
   "cell_type": "code",
   "execution_count": 101,
   "id": "3926e677-89e1-4013-b986-e0ec82286cf7",
   "metadata": {},
   "outputs": [],
   "source": [
    "X_train, X_test, Y_train, Y_test = train_test_split(X,Y, test_size=0.2, random_state=2)"
   ]
  },
  {
   "cell_type": "code",
   "execution_count": 103,
   "id": "6d6d51ee-3f5f-4b69-b997-55e71d8cd9a7",
   "metadata": {},
   "outputs": [],
   "source": [
    "X_train[\"GarageQual_Imputed\"]=X_train[\"GarageQual\"]\n",
    "X_test[\"GarageQual_Imputed\"]=X_test[\"GarageQual\"]\n",
    "\n",
    "X_train[\"FireplaceQu_Imputed\"]=X_train[\"FireplaceQu\"]\n",
    "X_test[\"FireplaceQu_Imputed\"]=X_test[\"FireplaceQu\"]"
   ]
  },
  {
   "cell_type": "markdown",
   "id": "0e0a8227-2a9e-42b2-a622-29a5dcf90b46",
   "metadata": {},
   "source": [
    "# Filling Missing Values"
   ]
  },
  {
   "cell_type": "code",
   "execution_count": 104,
   "id": "8a96b248-7d63-48b3-9ac0-1ebc73dffcf8",
   "metadata": {},
   "outputs": [],
   "source": [
    "# For training data\n",
    "X_train.loc[X_train['GarageQual_Imputed'].isnull(), 'GarageQual_Imputed'] = (\n",
    "    X_train['GarageQual'].dropna().sample(X_train['GarageQual'].isnull().sum()).values\n",
    ")\n",
    "\n",
    "# For test data\n",
    "X_test.loc[X_test['GarageQual_Imputed'].isnull(), 'GarageQual_Imputed'] = (\n",
    "    X_train['GarageQual'].dropna().sample(X_test['GarageQual'].isnull().sum()).values\n",
    ")\n",
    "\n",
    "# For training data\n",
    "X_train.loc[X_train['FireplaceQu_Imputed'].isnull(), 'FireplaceQu_Imputed'] = (\n",
    "    X_train['FireplaceQu'].dropna().sample(X_train['FireplaceQu'].isnull().sum()).values\n",
    ")\n",
    "\n",
    "# For test data\n",
    "X_test.loc[X_test['FireplaceQu_Imputed'].isnull(), 'FireplaceQu_Imputed'] = (\n",
    "    X_train['FireplaceQu'].dropna().sample(X_test['FireplaceQu'].isnull().sum()).values\n",
    ")"
   ]
  },
  {
   "cell_type": "code",
   "execution_count": 105,
   "id": "2a8cbfc2-bea2-4953-a7dc-c5f7d4d7268d",
   "metadata": {},
   "outputs": [
    {
     "data": {
      "text/html": [
       "<div>\n",
       "<style scoped>\n",
       "    .dataframe tbody tr th:only-of-type {\n",
       "        vertical-align: middle;\n",
       "    }\n",
       "\n",
       "    .dataframe tbody tr th {\n",
       "        vertical-align: top;\n",
       "    }\n",
       "\n",
       "    .dataframe thead th {\n",
       "        text-align: right;\n",
       "    }\n",
       "</style>\n",
       "<table border=\"1\" class=\"dataframe\">\n",
       "  <thead>\n",
       "    <tr style=\"text-align: right;\">\n",
       "      <th></th>\n",
       "      <th>FireplaceQu</th>\n",
       "      <th>GarageQual</th>\n",
       "      <th>SalePrice</th>\n",
       "      <th>GarageQual_Imputed</th>\n",
       "      <th>FireplaceQu_Imputed</th>\n",
       "    </tr>\n",
       "  </thead>\n",
       "  <tbody>\n",
       "    <tr>\n",
       "      <th>9</th>\n",
       "      <td>TA</td>\n",
       "      <td>Gd</td>\n",
       "      <td>118000</td>\n",
       "      <td>Gd</td>\n",
       "      <td>TA</td>\n",
       "    </tr>\n",
       "    <tr>\n",
       "      <th>468</th>\n",
       "      <td>Gd</td>\n",
       "      <td>TA</td>\n",
       "      <td>250000</td>\n",
       "      <td>TA</td>\n",
       "      <td>Gd</td>\n",
       "    </tr>\n",
       "    <tr>\n",
       "      <th>958</th>\n",
       "      <td>NaN</td>\n",
       "      <td>TA</td>\n",
       "      <td>185000</td>\n",
       "      <td>TA</td>\n",
       "      <td>Gd</td>\n",
       "    </tr>\n",
       "    <tr>\n",
       "      <th>189</th>\n",
       "      <td>Gd</td>\n",
       "      <td>TA</td>\n",
       "      <td>286000</td>\n",
       "      <td>TA</td>\n",
       "      <td>Gd</td>\n",
       "    </tr>\n",
       "    <tr>\n",
       "      <th>25</th>\n",
       "      <td>Gd</td>\n",
       "      <td>TA</td>\n",
       "      <td>256300</td>\n",
       "      <td>TA</td>\n",
       "      <td>Gd</td>\n",
       "    </tr>\n",
       "    <tr>\n",
       "      <th>1228</th>\n",
       "      <td>Gd</td>\n",
       "      <td>TA</td>\n",
       "      <td>367294</td>\n",
       "      <td>TA</td>\n",
       "      <td>Gd</td>\n",
       "    </tr>\n",
       "    <tr>\n",
       "      <th>743</th>\n",
       "      <td>TA</td>\n",
       "      <td>TA</td>\n",
       "      <td>175000</td>\n",
       "      <td>TA</td>\n",
       "      <td>TA</td>\n",
       "    </tr>\n",
       "    <tr>\n",
       "      <th>931</th>\n",
       "      <td>NaN</td>\n",
       "      <td>TA</td>\n",
       "      <td>117500</td>\n",
       "      <td>TA</td>\n",
       "      <td>TA</td>\n",
       "    </tr>\n",
       "    <tr>\n",
       "      <th>1114</th>\n",
       "      <td>NaN</td>\n",
       "      <td>TA</td>\n",
       "      <td>117000</td>\n",
       "      <td>TA</td>\n",
       "      <td>TA</td>\n",
       "    </tr>\n",
       "    <tr>\n",
       "      <th>837</th>\n",
       "      <td>NaN</td>\n",
       "      <td>TA</td>\n",
       "      <td>100000</td>\n",
       "      <td>TA</td>\n",
       "      <td>TA</td>\n",
       "    </tr>\n",
       "  </tbody>\n",
       "</table>\n",
       "</div>"
      ],
      "text/plain": [
       "     FireplaceQu GarageQual  SalePrice GarageQual_Imputed FireplaceQu_Imputed\n",
       "9             TA         Gd     118000                 Gd                  TA\n",
       "468           Gd         TA     250000                 TA                  Gd\n",
       "958          NaN         TA     185000                 TA                  Gd\n",
       "189           Gd         TA     286000                 TA                  Gd\n",
       "25            Gd         TA     256300                 TA                  Gd\n",
       "1228          Gd         TA     367294                 TA                  Gd\n",
       "743           TA         TA     175000                 TA                  TA\n",
       "931          NaN         TA     117500                 TA                  TA\n",
       "1114         NaN         TA     117000                 TA                  TA\n",
       "837          NaN         TA     100000                 TA                  TA"
      ]
     },
     "execution_count": 105,
     "metadata": {},
     "output_type": "execute_result"
    }
   ],
   "source": [
    "X_train.sample(10)"
   ]
  },
  {
   "cell_type": "markdown",
   "id": "3eaca4fd-6b44-4960-adc4-18a0429cf58f",
   "metadata": {},
   "source": [
    "# Checking Before and After imputation"
   ]
  },
  {
   "cell_type": "code",
   "execution_count": 107,
   "id": "8d54776f-c70e-45b2-aa51-cc51b9f924d1",
   "metadata": {},
   "outputs": [
    {
     "data": {
      "text/html": [
       "<div>\n",
       "<style scoped>\n",
       "    .dataframe tbody tr th:only-of-type {\n",
       "        vertical-align: middle;\n",
       "    }\n",
       "\n",
       "    .dataframe tbody tr th {\n",
       "        vertical-align: top;\n",
       "    }\n",
       "\n",
       "    .dataframe thead th {\n",
       "        text-align: right;\n",
       "    }\n",
       "</style>\n",
       "<table border=\"1\" class=\"dataframe\">\n",
       "  <thead>\n",
       "    <tr style=\"text-align: right;\">\n",
       "      <th></th>\n",
       "      <th>original</th>\n",
       "      <th>imputed</th>\n",
       "    </tr>\n",
       "  </thead>\n",
       "  <tbody>\n",
       "    <tr>\n",
       "      <th>TA</th>\n",
       "      <td>0.951043</td>\n",
       "      <td>0.949486</td>\n",
       "    </tr>\n",
       "    <tr>\n",
       "      <th>Fa</th>\n",
       "      <td>0.037171</td>\n",
       "      <td>0.039384</td>\n",
       "    </tr>\n",
       "    <tr>\n",
       "      <th>Gd</th>\n",
       "      <td>0.009973</td>\n",
       "      <td>0.009418</td>\n",
       "    </tr>\n",
       "    <tr>\n",
       "      <th>Po</th>\n",
       "      <td>0.000907</td>\n",
       "      <td>0.000856</td>\n",
       "    </tr>\n",
       "    <tr>\n",
       "      <th>Ex</th>\n",
       "      <td>0.000907</td>\n",
       "      <td>0.000856</td>\n",
       "    </tr>\n",
       "  </tbody>\n",
       "</table>\n",
       "</div>"
      ],
      "text/plain": [
       "    original   imputed\n",
       "TA  0.951043  0.949486\n",
       "Fa  0.037171  0.039384\n",
       "Gd  0.009973  0.009418\n",
       "Po  0.000907  0.000856\n",
       "Ex  0.000907  0.000856"
      ]
     },
     "execution_count": 107,
     "metadata": {},
     "output_type": "execute_result"
    }
   ],
   "source": [
    "temp = pd.concat(\n",
    "        [\n",
    "            X_train['GarageQual'].value_counts() / len(X_train['GarageQual'].dropna()),\n",
    "            X_train['GarageQual_Imputed'].value_counts() / len(X_train)\n",
    "        ],\n",
    "        axis=1)\n",
    "\n",
    "temp.columns = ['original', 'imputed']\n",
    "\n",
    "temp"
   ]
  },
  {
   "cell_type": "code",
   "execution_count": 108,
   "id": "5c29f41c-ce72-447d-afa7-735f70470715",
   "metadata": {},
   "outputs": [
    {
     "data": {
      "text/html": [
       "<div>\n",
       "<style scoped>\n",
       "    .dataframe tbody tr th:only-of-type {\n",
       "        vertical-align: middle;\n",
       "    }\n",
       "\n",
       "    .dataframe tbody tr th {\n",
       "        vertical-align: top;\n",
       "    }\n",
       "\n",
       "    .dataframe thead th {\n",
       "        text-align: right;\n",
       "    }\n",
       "</style>\n",
       "<table border=\"1\" class=\"dataframe\">\n",
       "  <thead>\n",
       "    <tr style=\"text-align: right;\">\n",
       "      <th></th>\n",
       "      <th>original</th>\n",
       "      <th>imputed</th>\n",
       "    </tr>\n",
       "  </thead>\n",
       "  <tbody>\n",
       "    <tr>\n",
       "      <th>Gd</th>\n",
       "      <td>0.494272</td>\n",
       "      <td>0.500000</td>\n",
       "    </tr>\n",
       "    <tr>\n",
       "      <th>TA</th>\n",
       "      <td>0.412439</td>\n",
       "      <td>0.409247</td>\n",
       "    </tr>\n",
       "    <tr>\n",
       "      <th>Fa</th>\n",
       "      <td>0.040917</td>\n",
       "      <td>0.038527</td>\n",
       "    </tr>\n",
       "    <tr>\n",
       "      <th>Po</th>\n",
       "      <td>0.027823</td>\n",
       "      <td>0.028253</td>\n",
       "    </tr>\n",
       "    <tr>\n",
       "      <th>Ex</th>\n",
       "      <td>0.024550</td>\n",
       "      <td>0.023973</td>\n",
       "    </tr>\n",
       "  </tbody>\n",
       "</table>\n",
       "</div>"
      ],
      "text/plain": [
       "    original   imputed\n",
       "Gd  0.494272  0.500000\n",
       "TA  0.412439  0.409247\n",
       "Fa  0.040917  0.038527\n",
       "Po  0.027823  0.028253\n",
       "Ex  0.024550  0.023973"
      ]
     },
     "execution_count": 108,
     "metadata": {},
     "output_type": "execute_result"
    }
   ],
   "source": [
    "temp = pd.concat(\n",
    "        [\n",
    "            X_train['FireplaceQu'].value_counts() / len(X_train['FireplaceQu'].dropna()),\n",
    "            X_train['FireplaceQu_Imputed'].value_counts() / len(X_train)\n",
    "        ],\n",
    "        axis=1)\n",
    "\n",
    "temp.columns = ['original', 'imputed']\n",
    "\n",
    "temp"
   ]
  }
 ],
 "metadata": {
  "kernelspec": {
   "display_name": "Python 3 (ipykernel)",
   "language": "python",
   "name": "python3"
  },
  "language_info": {
   "codemirror_mode": {
    "name": "ipython",
    "version": 3
   },
   "file_extension": ".py",
   "mimetype": "text/x-python",
   "name": "python",
   "nbconvert_exporter": "python",
   "pygments_lexer": "ipython3",
   "version": "3.13.5"
  }
 },
 "nbformat": 4,
 "nbformat_minor": 5
}
