{
 "cells": [
  {
   "cell_type": "code",
   "execution_count": 13,
   "id": "ab028a87-02b8-4fa8-b1ac-f4c7d35cbf83",
   "metadata": {},
   "outputs": [],
   "source": [
    "import numpy as np\n",
    "import pickle"
   ]
  },
  {
   "cell_type": "code",
   "execution_count": 14,
   "id": "6073740e-dfc4-4693-b9ed-1ce44dd9d9aa",
   "metadata": {},
   "outputs": [],
   "source": [
    "pipe=pickle.load(open('pipe.pkl','rb'))"
   ]
  },
  {
   "cell_type": "code",
   "execution_count": 18,
   "id": "fc4fc197-1c50-43cd-8e13-157290e2ce0a",
   "metadata": {},
   "outputs": [],
   "source": [
    "test_input=np.array([1,'female',38.0,1,0,71.2833,'C'],dtype=\"object\").reshape(1,7)"
   ]
  },
  {
   "cell_type": "code",
   "execution_count": 19,
   "id": "bf1d3232-1779-418c-b77e-6f5737d65b72",
   "metadata": {},
   "outputs": [
    {
     "data": {
      "text/plain": [
       "array([[1, 'female', 38.0, 1, 0, 71.2833, 'C']], dtype=object)"
      ]
     },
     "execution_count": 19,
     "metadata": {},
     "output_type": "execute_result"
    }
   ],
   "source": [
    "test_input"
   ]
  },
  {
   "cell_type": "code",
   "execution_count": null,
   "id": "7d53ec6f-ae18-4f5b-82f3-c9ee2c07206c",
   "metadata": {},
   "outputs": [],
   "source": [
    "pipe.predict(test_input)"
   ]
  }
 ],
 "metadata": {
  "kernelspec": {
   "display_name": "Python 3 (ipykernel)",
   "language": "python",
   "name": "python3"
  },
  "language_info": {
   "codemirror_mode": {
    "name": "ipython",
    "version": 3
   },
   "file_extension": ".py",
   "mimetype": "text/x-python",
   "name": "python",
   "nbconvert_exporter": "python",
   "pygments_lexer": "ipython3",
   "version": "3.13.5"
  }
 },
 "nbformat": 4,
 "nbformat_minor": 5
}
