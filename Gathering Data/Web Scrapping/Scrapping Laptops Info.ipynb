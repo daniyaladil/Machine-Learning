{
 "cells": [
  {
   "cell_type": "code",
   "execution_count": 127,
   "id": "c453e852-aeec-4a3e-89d9-9f5ec0e64f6e",
   "metadata": {},
   "outputs": [],
   "source": [
    "import pandas as pd"
   ]
  },
  {
   "cell_type": "code",
   "execution_count": 128,
   "id": "5f500495-5e8c-4cd2-b2ad-cae6a3e5ef03",
   "metadata": {},
   "outputs": [],
   "source": [
    "from bs4 import BeautifulSoup\n",
    "import requests"
   ]
  },
  {
   "cell_type": "code",
   "execution_count": 129,
   "id": "98af761f-04d3-4756-9a00-aa6535376911",
   "metadata": {},
   "outputs": [],
   "source": [
    "url=\"https://webscraper.io/test-sites/e-commerce/allinone/computers/laptops\"\n",
    "page=requests.get(url)"
   ]
  },
  {
   "cell_type": "code",
   "execution_count": 130,
   "id": "0d42f848-c9f5-4497-96b9-dac1d3cc5886",
   "metadata": {},
   "outputs": [],
   "source": [
    "soup=BeautifulSoup(page.text,\"html\")"
   ]
  },
  {
   "cell_type": "code",
   "execution_count": 131,
   "id": "d6e50c74-4a40-47dd-9eb5-9b3ae5d39fed",
   "metadata": {},
   "outputs": [],
   "source": [
    "sec=soup.find(\"div\",class_=\"col-lg-9\")\n",
    "section=sec.find(\"div\")"
   ]
  },
  {
   "cell_type": "code",
   "execution_count": 132,
   "id": "a16fa9b5-719d-4de4-aa87-776c6ec03b70",
   "metadata": {},
   "outputs": [],
   "source": [
    "df=pd.DataFrame(columns=[\"Product Name\",\"Price\",\"Details\",\"Reviews\"])\n",
    "\n",
    "for row in section:\n",
    "    list=[]\n",
    "    if hasattr(row, 'find_all'):\n",
    "        tag = row.find(\"a\", class_=\"title\")  # returns a single tag or None\n",
    "        price=row.find(\"span\",itemprop=\"price\")\n",
    "        desc=row.find(\"p\",class_=\"description card-text\")\n",
    "        reviews=row.find(\"span\",itemprop=\"reviewCount\")\n",
    "        if tag and price and desc and reviews:\n",
    "            name = tag.text.strip()\n",
    "            item_price=price.text.strip()\n",
    "            description=desc.text.strip()\n",
    "            reviews_count=reviews.text.strip()\n",
    "            list.append(name)\n",
    "            list.append(item_price)\n",
    "            list.append(description)\n",
    "            list.append(reviews_count)\n",
    "    \n",
    "            length=len(df)\n",
    "            df.loc[length]=list\n",
    "            \n",
    "    \n",
    "        \n"
   ]
  },
  {
   "cell_type": "code",
   "execution_count": 135,
   "id": "7f377865-e6ed-447d-9cb1-b691da08b08f",
   "metadata": {},
   "outputs": [],
   "source": [
    "df.to_csv(r\"C:\\Users\\PMLS\\Desktop\\ML Outputs\\laptops.csv\",index=False)"
   ]
  },
  {
   "cell_type": "code",
   "execution_count": null,
   "id": "f71d9f27-9ab4-48c8-912b-08732b879a94",
   "metadata": {},
   "outputs": [],
   "source": []
  }
 ],
 "metadata": {
  "kernelspec": {
   "display_name": "Python 3 (ipykernel)",
   "language": "python",
   "name": "python3"
  },
  "language_info": {
   "codemirror_mode": {
    "name": "ipython",
    "version": 3
   },
   "file_extension": ".py",
   "mimetype": "text/x-python",
   "name": "python",
   "nbconvert_exporter": "python",
   "pygments_lexer": "ipython3",
   "version": "3.13.5"
  }
 },
 "nbformat": 4,
 "nbformat_minor": 5
}
